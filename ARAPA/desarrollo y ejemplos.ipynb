{
 "cells": [
  {
   "cell_type": "markdown",
   "id": "e109985b-9168-4456-a32c-2b78cad27c6c",
   "metadata": {},
   "source": [
    "# DESARROLLO\n",
    "# 1. Estructura Iterativa ‑ Bucle \"for\""
   ]
  },
  {
   "cell_type": "code",
   "execution_count": 3,
   "id": "0ced6a84-c4d9-461c-889a-7c79a8524677",
   "metadata": {},
   "outputs": [
    {
     "name": "stdout",
     "output_type": "stream",
     "text": [
      "1\n",
      "2\n",
      "3\n",
      "4\n",
      "5\n",
      "6\n"
     ]
    }
   ],
   "source": [
    "#usamos for\n",
    "num = [1,2,3,4,5,6]\n",
    "for numeros in num:\n",
    "    print (numeros)\n"
   ]
  },
  {
   "cell_type": "code",
   "execution_count": 5,
   "id": "39fac4a4-f72e-4ec2-9b08-f20715eebff7",
   "metadata": {},
   "outputs": [
    {
     "name": "stdout",
     "output_type": "stream",
     "text": [
      "k\n",
      "e\n",
      "v\n",
      "i\n",
      "n\n"
     ]
    }
   ],
   "source": [
    "#\"for\" iterando un string\n",
    "nom = \"kevin\"\n",
    "for letra in nom:\n",
    "    print (letra)\n"
   ]
  },
  {
   "cell_type": "markdown",
   "id": "04deb0bd-36fd-483c-bef6-135f433b81d3",
   "metadata": {},
   "source": [
    "## Hacer un programa que itere a lo largo de una lista que contenga colores y añada appends todos los colores que tengan r en una nueva lista"
   ]
  },
  {
   "cell_type": "code",
   "execution_count": 9,
   "id": "0170cf12-8436-4087-8606-5463f800d827",
   "metadata": {},
   "outputs": [
    {
     "name": "stdout",
     "output_type": "stream",
     "text": [
      "['rojo', 'verde', 'amarillo']\n"
     ]
    }
   ],
   "source": [
    "#lista de colores\n",
    "colo = [\"rojo\", \"verde\", \"amarillo\", \"violeta\"]\n",
    "#nueva lista\n",
    "colo_con_r = []\n",
    "\n",
    "\n",
    "for k in colo:\n",
    "    if \"r\" in k:\n",
    "        colo_con_r.append(k)\n",
    "\n",
    "print (colo_con_r)"
   ]
  },
  {
   "cell_type": "markdown",
   "id": "98992c09-79a8-4ebb-80df-56b05b8d1128",
   "metadata": {},
   "source": [
    "# 2. Función \"range\""
   ]
  },
  {
   "cell_type": "code",
   "execution_count": 11,
   "id": "32a55c2a-f3c9-45c5-a643-27c15408ca45",
   "metadata": {},
   "outputs": [
    {
     "name": "stdout",
     "output_type": "stream",
     "text": [
      "1 2 3 4 5 6 7 8 9 10 "
     ]
    }
   ],
   "source": [
    "# Hacer un programa que imprima del numero 1 al 10\n",
    "for i in range(10):\n",
    "    print (i + 1, \"\", end=\"\")"
   ]
  },
  {
   "cell_type": "markdown",
   "id": "ed9b31e8-85b7-4d24-9c72-d13b2f9350bd",
   "metadata": {},
   "source": [
    "## Ejemplos de función range"
   ]
  },
  {
   "cell_type": "code",
   "execution_count": 17,
   "id": "436627c2-3d2c-41fe-94e1-de08608b0c5d",
   "metadata": {},
   "outputs": [
    {
     "name": "stdout",
     "output_type": "stream",
     "text": [
      "40 36 32 28 24 20 16 12 8 4 "
     ]
    }
   ],
   "source": [
    "# inicio=40 , un final=0 y una longitud de paso -4\n",
    "for i in range(40,0,-4):\n",
    "    print (i, \"\", end=\"\")"
   ]
  },
  {
   "cell_type": "code",
   "execution_count": 19,
   "id": "40ffdec9-d213-4173-a40c-3df26bda5e48",
   "metadata": {},
   "outputs": [
    {
     "name": "stdout",
     "output_type": "stream",
     "text": [
      "100 95 90 85 80 75 70 65 60 55 50 45 40 35 30 25 20 15 10 5 0 "
     ]
    }
   ],
   "source": [
    "# inicio=40 , un final=5 y una longitud de paso -5\n",
    "for i in range(100,-5,-5):\n",
    "    print (i, \"\", end=\"\")"
   ]
  },
  {
   "cell_type": "markdown",
   "id": "9e50992a-1330-4507-91ce-3b45fe817451",
   "metadata": {},
   "source": [
    "# 3. Función \"break\" y \"continue\""
   ]
  },
  {
   "cell_type": "code",
   "execution_count": 25,
   "id": "67239a1f-8910-4f37-a455-6b09f0456474",
   "metadata": {},
   "outputs": [
    {
     "name": "stdout",
     "output_type": "stream",
     "text": [
      "5\n"
     ]
    }
   ],
   "source": [
    "#Hacer un programa que de una lista de numeros imprima la posición del numero 9\n",
    "#lista de numero\n",
    "lista = (2,3,4,5,7,9)\n",
    "\n",
    "#utilizamos un contador empezando en -1\n",
    "cont = -1\n",
    "\n",
    "for m in lista:\n",
    "    cont = cont + 1\n",
    "    if m== 9:\n",
    "        break\n",
    "print (cont)"
   ]
  },
  {
   "cell_type": "markdown",
   "id": "711d8b11-bdbe-4631-8149-0a5537d5fe11",
   "metadata": {},
   "source": [
    "# EJEMPLOS\n",
    "## Estructura iterativa for"
   ]
  },
  {
   "cell_type": "code",
   "execution_count": 27,
   "id": "e7c4da7c-6dae-4fee-90bc-fe158951da5b",
   "metadata": {},
   "outputs": [
    {
     "name": "stdout",
     "output_type": "stream",
     "text": [
      "0\n",
      "3\n",
      "6\n",
      "9\n",
      "12\n",
      "15\n",
      "18\n",
      "21\n",
      "24\n",
      "27\n"
     ]
    }
   ],
   "source": [
    "#Hacer un programa mostrar por pantalla los números impares del 0 al 30 :\n",
    "for num in range(0, 30, 3):\n",
    "    print (num)\n"
   ]
  },
  {
   "cell_type": "code",
   "execution_count": 29,
   "id": "9fda85b0-82e4-424b-8966-df7481df4714",
   "metadata": {},
   "outputs": [
    {
     "name": "stdout",
     "output_type": "stream",
     "text": [
      "3\n"
     ]
    }
   ],
   "source": [
    "#Contar cuántas veces aparece un elemento en una lista\n",
    "\n",
    "frutas = [\"manzana\", \"banana\", \"manzana\", \"cereza\", \"manzana\"]\n",
    "contador = 0\n",
    "\n",
    "\n",
    "for fruta in frutas:\n",
    "    if fruta == \"manzana\":\n",
    "        contador += 1\n",
    "print(contador)\n"
   ]
  },
  {
   "cell_type": "code",
   "execution_count": 31,
   "id": "cd2b0cf9-660c-4a7f-96c1-2ae780634456",
   "metadata": {},
   "outputs": [
    {
     "name": "stdout",
     "output_type": "stream",
     "text": [
      "Hola Ana, ¡Estás cordialmente invitado a nuestra fiesta!\n",
      "Hola Carlos, ¡Estás cordialmente invitado a nuestra fiesta!\n",
      "Hola Luis, ¡Estás cordialmente invitado a nuestra fiesta!\n",
      "Hola María, ¡Estás cordialmente invitado a nuestra fiesta!\n",
      "Hola Pedro, ¡Estás cordialmente invitado a nuestra fiesta!\n"
     ]
    }
   ],
   "source": [
    "#Hacer un programa que realice invitaciones de una lista de nombres\n",
    "\n",
    "# Lista de nombres de personas a las que se les enviará una invitación\n",
    "nombres = [\"Ana\", \"Carlos\", \"Luis\", \"María\", \"Pedro\"]\n",
    "\n",
    "# Mensaje de la invitación\n",
    "mensaje_invitacion = \"¡Estás cordialmente invitado a nuestra fiesta!\"\n",
    "\n",
    "# Generar invitaciones\n",
    "for nombre in nombres:\n",
    "    print(f\"Hola {nombre}, {mensaje_invitacion}\")\n"
   ]
  },
  {
   "cell_type": "code",
   "execution_count": 33,
   "id": "3cd750be-dffa-4314-9b99-f776fbd62f86",
   "metadata": {},
   "outputs": [
    {
     "name": "stdin",
     "output_type": "stream",
     "text": [
      "Introduce el número:  20\n",
      "Introduce el valor de 'n' para la raíz enésima:  2\n"
     ]
    },
    {
     "name": "stdout",
     "output_type": "stream",
     "text": [
      "La raíz 2-ésima de 20.0 es: 4.47213595499958\n"
     ]
    }
   ],
   "source": [
    "#Hacer un programa que permita hallar la raiz enesima de un numero que se ingresara por teclado\n",
    "\n",
    "# Solicitar al usuario que ingrese un número\n",
    "numero = float(input(\"Introduce el número: \"))\n",
    "\n",
    "# Solicitar al usuario que ingrese el valor de 'n' para la raíz enésima\n",
    "n = int(input(\"Introduce el valor de 'n' para la raíz enésima: \"))\n",
    "\n",
    "# Calcular la raíz enésima utilizando el operador de potencia (**)\n",
    "raiz_enesima = numero ** (1 / n)\n",
    "\n",
    "# Mostrar el resultado\n",
    "print(f\"La raíz {n}-ésima de {numero} es: {raiz_enesima}\")\n"
   ]
  },
  {
   "cell_type": "code",
   "execution_count": null,
   "id": "685929c7-71d3-4ac1-b209-0033705f8880",
   "metadata": {},
   "outputs": [],
   "source": []
  }
 ],
 "metadata": {
  "kernelspec": {
   "display_name": "Python 3 (ipykernel)",
   "language": "python",
   "name": "python3"
  },
  "language_info": {
   "codemirror_mode": {
    "name": "ipython",
    "version": 3
   },
   "file_extension": ".py",
   "mimetype": "text/x-python",
   "name": "python",
   "nbconvert_exporter": "python",
   "pygments_lexer": "ipython3",
   "version": "3.12.4"
  }
 },
 "nbformat": 4,
 "nbformat_minor": 5
}
